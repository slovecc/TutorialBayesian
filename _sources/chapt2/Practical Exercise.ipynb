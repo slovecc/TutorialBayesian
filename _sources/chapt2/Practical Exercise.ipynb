{
 "cells": [
  {
   "cell_type": "markdown",
   "metadata": {},
   "source": [
    "## Data Analysis Example\n",
    "\n",
    "### Problem\n",
    "\n",
    "Suppose we are giving 2 students a multiple choice exam with 40 questions, where each question has 4 choices. We don't know how much the students have studied for the exam, but we think they will do better than just guessing randomly.\n",
    "\n",
    "1. What are the parameters of interest?\n",
    "2. What is our likelihood?\n",
    "3. What prior should we use?\n",
    "4. What is the prior probability P($\\theta$ > 0.25)? P($\\theta$ > 0.5)? P($\\theta$ > 0.8)?\n",
    "5. Suppose the first student gets 33 questions right. What is the posterior distribution for $\\theta$<sub>1</sub>? P($\\theta$<sub>1</sub> > 0.25)? P($\\theta$<sub>1</sub> > 0.5)? P($\\theta$<sub>1</sub> > 0.8)? What is a 95% credible interval for $\\theta$<sub>1</sub>?\n",
    "6. Suppose the second student gets 24 questions right. What is the posterior distribution for $\\theta$<sub>2</sub>? P($\\theta$<sub>2</sub> > 0.25)? P($\\theta$<sub>2</sub> > 0.5)? P($\\theta$<sub>2</sub> > 0.8)? What is a 95% credible interval for $\\theta$<sub>2</sub>?\n",
    "7. What is the posterior probability that $\\theta$<sub>1</sub> > $\\theta$<sub>2</sub>, i.e., that the first student has a better chance of getting a question right than the second student?"
   ]
  },
  {
   "cell_type": "code",
   "execution_count": 2,
   "metadata": {
    "collapsed": true
   },
   "outputs": [],
   "source": [
    "import matplotlib.pyplot as plt\n",
    "import numpy as np\n",
    "import scipy.stats as stats\n",
    "%matplotlib inline"
   ]
  },
  {
   "cell_type": "markdown",
   "metadata": {},
   "source": [
    "### 1. What are the parameters of interest?\n",
    "\n",
    "Parameters of interest are:\n",
    "* $\\theta$<sub>1</sub> -- probability that first student answers a question correctly.\n",
    "* $\\theta$<sub>2</sub> -- probability that second student answers a question correctly.\n",
    "\n",
    "### 2. What is the likelihood?\n",
    "\n",
    "Likelihood is Binomial(n=40, X), if we assume that questions are independent and probability of a student for getting a question right is the same for all questions.\n",
    "\n",
    "### 3. What prior should we use?\n",
    "\n",
    "Since our Likelihood is Binomial, the conjugate prior to use is Beta($\\alpha$, $\\beta$), where $\\alpha$ and $\\beta$ are hyperparameters whose values we need to choose. In order to set these values, we use our (prior) belief that we think they will do better than just guessing randomly, i.e., so most of the probability mass should be for x > 0.5\n",
    "\n",
    "Let us plot a few Beta distributions with different values of $\\alpha$ and $\\beta$.\n",
    "\n",
    "Based on the plots below, the Beta(8,4) prior looks reasonable since most of the probability mass is for x > 0.5. One thing to note is that while a prior is important, it is okay to start with a \"good enough\" prior since the data is likely to be more important in determining (the parameters of) the posterior distribution."
   ]
  },
  {
   "cell_type": "code",
   "execution_count": 3,
   "metadata": {
    "collapsed": false
   },
   "outputs": [
    {
     "data": {
      "image/png": "[encoded data removed]",
      "text/plain": [
       "<Figure size 600x400 with 1 Axes>"
      ]
     },
     "metadata": {},
     "output_type": "display_data"
    }
   ],
   "source": [
    "xs = np.arange(0, 1, step=0.1)\n",
    "plt.plot(xs, stats.beta.pdf(xs, 1, 1), color=\"r\", label=\"Beta(1,1)\")\n",
    "plt.plot(xs, stats.beta.pdf(xs, 4, 2), color=\"g\", label=\"Beta(4,2)\")\n",
    "plt.plot(xs, stats.beta.pdf(xs, 8, 4), color=\"b\", label=\"Beta(8,4)\")\n",
    "plt.xlabel(\"x\")\n",
    "plt.ylabel(\"PDF\")\n",
    "plt.legend(loc=\"best\")\n",
    "plt.show()"
   ]
  },
  {
   "cell_type": "markdown",
   "metadata": {},
   "source": [
    "### 4. What is the prior probability at different points?"
   ]
  },
  {
   "cell_type": "code",
   "execution_count": 4,
   "metadata": {
    "collapsed": false
   },
   "outputs": [
    {
     "name": "stdout",
     "output_type": "stream",
     "text": [
      "P(theta > 0.25): 0.99881\n",
      "P(theta > 0.5): 0.88672\n",
      "P(theta > 0.8): 0.16114\n"
     ]
    }
   ],
   "source": [
    "prior = stats.beta(8, 4)\n",
    "prior_gt_25 = 1.0 - prior.cdf(0.25)\n",
    "prior_gt_50 = 1.0 - prior.cdf(0.5)\n",
    "prior_gt_80 = 1.0 - prior.cdf(0.8)\n",
    "print(\"P(theta > 0.25): {:.5f}\".format(prior_gt_25))\n",
    "print(\"P(theta > 0.5): {:.5f}\".format(prior_gt_50))\n",
    "print(\"P(theta > 0.8): {:.5f}\".format(prior_gt_80))"
   ]
  },
  {
   "cell_type": "markdown",
   "metadata": {},
   "source": [
    "### 5. Posterior probability and credible 95% interval for first student\n",
    "\n",
    "Student got 33 of 40 questions right, so our posterior will also be a Beta distribution (conjugate priors). The parameters for the posterior Beta distribution are as follows:\n",
    "\n",
    "* $\\alpha$ = 8 + 33 = 41\n",
    "* $\\beta$ = 4 + 40 - 33 = 11"
   ]
  },
  {
   "cell_type": "code",
   "execution_count": 10,
   "metadata": {
    "collapsed": false
   },
   "outputs": [
    {
     "name": "stdout",
     "output_type": "stream",
     "text": [
      "Prior Mean: 0.66667\n",
      "Posterior Mean: 0.78846\n",
      "Posterior MLE:  0.82500\n"
     ]
    }
   ],
   "source": [
    "posterior_1_mean = 41 / (41 + 11)\n",
    "posterior_1_mle = 33 / 40\n",
    "print(\"Prior Mean: {:.5f}\".format(8/12))\n",
    "print(\"Posterior Mean: {:.5f}\".format(posterior_1_mean))\n",
    "print(\"Posterior MLE:  {:.5f}\".format(posterior_1_mle))"
   ]
  },
  {
   "cell_type": "code",
   "execution_count": 5,
   "metadata": {
    "collapsed": false
   },
   "outputs": [
    {
     "data": {
      "image/png": "[encoded data removed]",
      "text/plain": [
       "<Figure size 600x400 with 1 Axes>"
      ]
     },
     "metadata": {},
     "output_type": "display_data"
    }
   ],
   "source": [
    "plt.plot(xs, stats.beta.pdf(xs, 8, 4), color=\"r\", label=\"Prior\")\n",
    "plt.plot(xs, stats.beta.pdf(xs, 41, 11), color=\"b\", label=\"Posterior\")\n",
    "\n",
    "# likelihood is discrete so needs to be plotted against integer values of x,\n",
    "# also needs to be scaled (x44) so it can be plotted together with prior and posterior\n",
    "xs_i = [int(x*40) for x in xs]\n",
    "plt.plot(xs, 44*stats.binom.pmf(xs_i, 40, (33/40)), color=\"g\", label=\"Likelihood\")\n",
    "\n",
    "plt.xlabel(\"x\")\n",
    "plt.ylabel(\"PDF\")\n",
    "plt.legend(loc=\"best\")\n",
    "plt.show()"
   ]
  },
  {
   "cell_type": "code",
   "execution_count": 11,
   "metadata": {
    "collapsed": false
   },
   "outputs": [
    {
     "name": "stdout",
     "output_type": "stream",
     "text": [
      "P(theta_1 > 0.25): 1.00000\n",
      "P(theta_1 > 0.5): 0.99999\n",
      "P(theta_1 > 0.8): 0.44440\n",
      "95% credible interval: with 95% probability, theta_1 between 0.66884 and 0.88711\n"
     ]
    }
   ],
   "source": [
    "posterior_1 = stats.beta(41, 11)\n",
    "posterior_1_gt_25 = 1.0 - posterior_1.cdf(0.25)\n",
    "posterior_1_gt_50 = 1.0 - posterior_1.cdf(0.5)\n",
    "posterior_1_gt_80 = 1.0 - posterior_1.cdf(0.8)\n",
    "\n",
    "posterior_1_95ci = (posterior_1.ppf(0.025), posterior_1.ppf(0.975))\n",
    "\n",
    "print(\"P(theta_1 > 0.25): {:.5f}\".format(posterior_1_gt_25))\n",
    "print(\"P(theta_1 > 0.5): {:.5f}\".format(posterior_1_gt_50))\n",
    "print(\"P(theta_1 > 0.8): {:.5f}\".format(posterior_1_gt_80))\n",
    "print(\"95% credible interval: with 95% probability, theta_1 between {:.5f} and {:.5f}\"\n",
    "      .format(posterior_1_95ci[0], posterior_1_95ci[1]))"
   ]
  },
  {
   "cell_type": "markdown",
   "metadata": {},
   "source": [
    "### 6. Posterior Probability and 95% credible interval for second student\n",
    "\n",
    "Student got 24 of 40 questions right, so our posterior will also be a Beta distribution (conjugate priors). The parameters for the posterior Beta distribution are as follows:\n",
    "\n",
    "* $\\alpha$ = 8 + 24 = 32\n",
    "* $\\beta$ = 4 + 40 - 24 = 20"
   ]
  },
  {
   "cell_type": "code",
   "execution_count": 6,
   "metadata": {
    "collapsed": false
   },
   "outputs": [
    {
     "name": "stdout",
     "output_type": "stream",
     "text": [
      "Prior Mean: 0.66667\n",
      "Posterior Mean: 0.61538\n",
      "Posterior MLE:  0.60000\n"
     ]
    }
   ],
   "source": [
    "posterior_2_mean = 32 / (32 + 20)\n",
    "posterior_2_mle = 24 / 40\n",
    "print(\"Prior Mean: {:.5f}\".format(8/12))\n",
    "print(\"Posterior Mean: {:.5f}\".format(posterior_2_mean))\n",
    "print(\"Posterior MLE:  {:.5f}\".format(posterior_2_mle))"
   ]
  },
  {
   "cell_type": "code",
   "execution_count": 7,
   "metadata": {
    "collapsed": false
   },
   "outputs": [
    {
     "data": {
      "image/png": "[encoded data removed]",
      "text/plain": [
       "<Figure size 600x400 with 1 Axes>"
      ]
     },
     "metadata": {},
     "output_type": "display_data"
    }
   ],
   "source": [
    "plt.plot(xs, stats.beta.pdf(xs, 8, 4), color=\"r\", label=\"Prior\")\n",
    "plt.plot(xs, stats.beta.pdf(xs, 32, 20), color=\"b\", label=\"Posterior\")\n",
    "\n",
    "# likelihood is discrete so needs to be plotted against integer values of x,\n",
    "# also needs to be scaled (x44) so it can be plotted together with prior and posterior\n",
    "xs_i = [int(x*40) for x in xs]\n",
    "plt.plot(xs, 44*stats.binom.pmf(xs_i, 40, (24/40)), color=\"g\", label=\"Likelihood\")\n",
    "\n",
    "plt.xlabel(\"x\")\n",
    "plt.ylabel(\"PDF\")\n",
    "plt.legend(loc=\"best\")\n",
    "plt.show()"
   ]
  },
  {
   "cell_type": "code",
   "execution_count": 8,
   "metadata": {
    "collapsed": false
   },
   "outputs": [
    {
     "name": "stdout",
     "output_type": "stream",
     "text": [
      "P(theta_1 > 0.25): 1.00000\n",
      "P(theta_1 > 0.5): 0.95404\n",
      "P(theta_1 > 0.8): 0.00125\n",
      "95% credible interval: with 95% probability, theta_1 between 0.48080 and 0.74156\n"
     ]
    }
   ],
   "source": [
    "posterior_2 = stats.beta(32, 20)\n",
    "posterior_2_gt_25 = 1.0 - posterior_2.cdf(0.25)\n",
    "posterior_2_gt_50 = 1.0 - posterior_2.cdf(0.5)\n",
    "posterior_2_gt_80 = 1.0 - posterior_2.cdf(0.8)\n",
    "\n",
    "posterior_2_95ci = (posterior_2.ppf(0.025), posterior_2.ppf(0.975))\n",
    "\n",
    "print(\"P(theta_1 > 0.25): {:.5f}\".format(posterior_2_gt_25))\n",
    "print(\"P(theta_1 > 0.5): {:.5f}\".format(posterior_2_gt_50))\n",
    "print(\"P(theta_1 > 0.8): {:.5f}\".format(posterior_2_gt_80))\n",
    "print(\"95% credible interval: with 95% probability, theta_1 between {:.5f} and {:.5f}\"\n",
    "      .format(posterior_2_95ci[0], posterior_2_95ci[1]))"
   ]
  },
  {
   "cell_type": "markdown",
   "metadata": {},
   "source": [
    "### 7. Compare posterior probabilities for the two students\n",
    "\n",
    "This is difficult to do analytically, so we will do this by simulation."
   ]
  },
  {
   "cell_type": "code",
   "execution_count": 12,
   "metadata": {
    "collapsed": false
   },
   "outputs": [
    {
     "name": "stdout",
     "output_type": "stream",
     "text": [
      "Empirical probability that theta_2 > theta_1: 0.976\n"
     ]
    }
   ],
   "source": [
    "posterior_1_sim = posterior_1.rvs(1000)\n",
    "posterior_2_sim = posterior_2.rvs(1000)\n",
    "print(\"Empirical probability that theta_2 > theta_1: {:.3f}\".format(\n",
    "    np.mean(posterior_1_sim > posterior_2_sim)))"
   ]
  },
  {
   "cell_type": "markdown",
   "metadata": {},
   "source": [
    "### References\n",
    "\n",
    "* [Bayesian Inference of a Binomial Proportion - the Analytical Approach](https://www.quantstart.com/articles/Bayesian-Inference-of-a-Binomial-Proportion-The-Analytical-Approach/) -- covers Binomial likelihood and the idea of Beta conjugate priors, coverage similar to course material."
   ]
  },
  {
   "cell_type": "code",
   "execution_count": null,
   "metadata": {
    "collapsed": true
   },
   "outputs": [],
   "source": []
  }
 ],
 "metadata": {
  "kernelspec": {
   "display_name": "Python 3",
   "language": "python",
   "name": "python3"
  },
  "language_info": {
   "codemirror_mode": {
    "name": "ipython",
    "version": 3
   },
   "file_extension": ".py",
   "mimetype": "text/x-python",
   "name": "python",
   "nbconvert_exporter": "python",
   "pygments_lexer": "ipython3",
   "version": "3.5.2"
  }
 },
 "nbformat": 4,
 "nbformat_minor": 2
}
