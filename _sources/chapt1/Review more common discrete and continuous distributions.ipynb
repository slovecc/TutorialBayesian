{
 "cells": [
  {
   "cell_type": "markdown",
   "metadata": {},
   "source": [
    "# Discrete and continuous Distributions  <a class=\"anchor\" id=\"distributions\"></a>  \n",
    "\n",
    "## Discrete Distributions <a class=\"anchor\" id=\"section_1_1\"></a>\n",
    "We will review the main distributions that we will use in the following chapters.\n",
    "\n",
    "### Bernoulli (discrete)\n",
    "$X \\sim B(p)$ $\\Rightarrow$ \n",
    "\n",
    "$$P(X=1) = p  \\tag{Probability of success} $$ \n",
    "\n",
    "$$P(X=1) = 1-p  \\tag{Probability of failure} $$\n",
    "\n",
    "The compact way to write the function of all possible outcomes, namely the density function, is \n",
    "\n",
    "$$f(X=x|p)=f(x|p)=p^x (1-p)^{(1-x)} I_{x \\in \\{ 0,1 \\} }$$\n",
    "\n",
    "Expected value\n",
    "\n",
    "$$E[X] = \\sum_X xP(X=x)=1 \\, (p)+ 0 \\, (1-p) =p $$\n",
    "The variance is\n",
    "\n",
    "$$Var(X)=p \\, (1-p)$$\n",
    "\n",
    "\n",
    "\n",
    "```{admonition} **Examples in ecommerce**\n",
    "\n",
    "\n",
    "- Probability that one buyer has to contact one seller\n",
    "\n",
    "- Probability that one user has to click in one banner\n",
    "\n",
    "- Probability that one user is going to do a churn\n",
    "\n",
    "\n",
    "```\n",
    "\n",
    "Generalization of Bernoulli when we have n repeated trial is the next distribution.\n",
    "\n",
    "\n",
    "#### Binomial \n",
    "The Binonial is the sum of $n$ independent Bernoulli.\n",
    "\n",
    "$X \\sim Bin(n,p)$\n",
    "\n",
    "$$P(X=x|p)=f(X|p)= \\binom{n}{x} p^x \\, (1-p)^{n-x}$$\n",
    "\n",
    "where $\\binom{n}{x} = \\frac{n!}{x!(n-x)!}$ for $x \\in \\{0,1,..,n \\}$.\n",
    "The expected value and the variance are:\n",
    "\n",
    "$$E[X] = np$$\n",
    "\n",
    "$$Var(X)=np \\, (1-p)$$ \n",
    "\n",
    "\n",
    "```{admonition} Examples in ecommerce\n",
    "\n",
    "- Churn rate for one marketplaces in apps\n",
    "\n",
    "- Return rate\n",
    "\n",
    "- CTRs\n",
    "\n",
    "```\n",
    "\n",
    "\n",
    "\n",
    "## Review Continuous Distributions <a class=\"anchor\" id=\"section_1_1\"></a>\n",
    "\n",
    "### Uniform \n",
    "\n",
    "$X \\sim U [0,1]$ with $f(X)$ equals to 1 if $x \\in [0,1]$, 0 otherwise :$f(X)= I_{x \\in \\{ 0,1 \\} }$\n",
    "\n",
    "The expected value is:\n",
    "\n",
    "$$E[X] = \\int_{-\\infty}^{\\infty} x f(x) \\,dx =  \\int_{0}^{1} x \\cdot 1 \\,dx =\\int_{0}^{1/2}  x\\,dx = 1/2$$\n",
    "\n",
    "and\n",
    "\n",
    "$$Var(X)= \\frac{1}{12}$$ \n",
    "\n",
    "\n",
    "$\\textbf{Generalized expression for uniform}$\n",
    "$X \\sim U [\\theta_1,\\theta_2]$\n",
    "\n",
    "$f(X|\\theta_1,\\theta_2)= \\frac{1}{\\theta_1 - \\theta_2}  I_{ \\{ \\theta_1 \\leq x \\leq \\theta_2 \\} }$\n",
    "\n",
    "where\n",
    "\n",
    "$$E[X] = \\frac{1}{2}(\\theta_1+\\theta_2)$$\n",
    "\n",
    "and \n",
    "\n",
    "$$V[X] = \\frac{1}{12}(\\theta_2-\\theta_1)^2$$\n",
    "\n",
    "```{admonition} Examples in ecommerce\n",
    "\n",
    "- Demand value for a new product \n",
    "\n",
    "```\n",
    "\n",
    "### Normal\n",
    "\n",
    "$X \\sim N(\\mu, \\sigma^2)$\n",
    "\n",
    "$$f(X|\\mu, \\sigma^2)= \\frac{1}{ \\sqrt{2 \\Pi \\sigma^2 }} e^{- \\frac{1}{2 \\sigma^2} (x - \\mu)^2}  $$\n",
    "\n",
    "$$E[X] = \\mu $$\n",
    "\n",
    "$$Var(X)= \\sigma^2$$\n",
    "\n",
    "\n",
    "```{admonition} Examples in ecommerce\n",
    "\n",
    "- Daily average number of clicks per user\n",
    "\n",
    "- Daily average ad replies per user\n",
    "\n",
    "```\n",
    "\n",
    "### Exponential\n",
    "\n",
    "$X \\sim Exp(\\lambda)$\n",
    "\n",
    "$$\n",
    "f(X|\\lambda)= \\lambda e^{-\\lambda x}  \\tag{for $x \\geq 0$}\n",
    "$$\n",
    "\n",
    "\n",
    "The expected value and the variance are:\n",
    "\n",
    "$$E[X] = 1/\\lambda $$\n",
    "\n",
    "$$Var(X)=1/\\lambda^2$$\n",
    "\n",
    "\n",
    "```{admonition} Examples in ecommerce\n",
    "\n",
    "- Time of one user to return to visit our site\n",
    "\n",
    "- Time that a seller is going to buy a premium feature\n",
    "\n",
    "```\n",
    "\n",
    "\n",
    "\n",
    "### Beta\n",
    "The beta distribution is used for random variables which take on values between 0 and 1.\n",
    "For this reason (and other reasons we will see later in the course), the beta distribution is\n",
    "commonly used to model probabilities.\n",
    "\n",
    "$$ X \\sim Beta(\\alpha,\\beta)  $$\n",
    "\n",
    "\n",
    "$$ f(X|\\alpha,\\beta) = \\frac{\\Gamma(\\alpha +\\beta)}{\\Gamma(\\alpha)\\Gamma(\\beta)} X^{\\alpha-1} (1-X)^{\\beta-1} I_{\\{0 \\lt X \\lt 1 \\}}$$\n",
    "\n",
    "$$E[X] = \\frac{\\alpha}{\\alpha +\\beta} $$\n",
    "\n",
    "$$Var(X)= \\frac{\\alpha \\beta}{(\\alpha +\\beta)^2 (\\alpha +\\beta+1)} $$\n",
    "\n",
    "where $\\Gamma(.)$ is the gamma function introduced below with the gamma distribution. Note also that\n",
    "$\\alpha > 0$ and $\\beta > 0$. The standard Uniform(0, 1) distribution is a special case of the beta\n",
    "distribution with $\\alpha=\\beta=1$.\n",
    "\n",
    "\n"
   ]
  },
  {
   "cell_type": "code",
   "execution_count": 4,
   "metadata": {
    "tags": [
     "hide-input"
    ]
   },
   "outputs": [
    {
     "data": {
      "image/png": "[encoded data removed]",
      "text/plain": [
       "<Figure size 360x270 with 1 Axes>"
      ]
     },
     "metadata": {
      "needs_background": "light"
     },
     "output_type": "display_data"
    },
    {
     "data": {
      "text/html": [
       "<script>\n",
       "code_show=true; \n",
       "function code_toggle() {\n",
       "    if (code_show){\n",
       "        $('div.cell.code_cell.rendered.selected div.input').hide();\n",
       "    } else {\n",
       "        $('div.cell.code_cell.rendered.selected div.input').show();\n",
       "    }\n",
       "    code_show = !code_show\n",
       "} \n",
       "\n",
       "$( document ).ready(code_toggle);\n",
       "</script>\n",
       "\n",
       "To show/hide this cell's raw code input, click <a href=\"javascript:code_toggle()\">here</a>."
      ],
      "text/plain": [
       "<IPython.core.display.HTML object>"
      ]
     },
     "execution_count": 4,
     "metadata": {},
     "output_type": "execute_result"
    }
   ],
   "source": [
    "import numpy as np\n",
    "from scipy.stats import beta\n",
    "from matplotlib import pyplot as plt\n",
    "from IPython.display import HTML\n",
    "\n",
    "\n",
    "#------------------------------------------------------------\n",
    "# Define the distribution parameters to be plotted\n",
    "alpha_values = [0.5, 1., 3.0, 0.5]\n",
    "beta_values = [0.5, 1., 3.0, 1.5]\n",
    "linestyles = ['-', '--', ':', '-.']\n",
    "x = np.linspace(0, 1, 1002)[1:-1]\n",
    "\n",
    "#------------------------------------------------------------\n",
    "# plot the distributions\n",
    "fig, ax = plt.subplots(figsize=(5, 3.75))\n",
    "\n",
    "for a, b, ls in zip(alpha_values, beta_values, linestyles):\n",
    "    dist = beta(a, b)\n",
    "\n",
    "    plt.plot(x, dist.pdf(x), ls=ls, c='black',\n",
    "             label=r'$\\alpha=%.1f,\\ \\beta=%.1f$' % (a, b))\n",
    "\n",
    "plt.xlim(0, 1)\n",
    "plt.ylim(0, 3)\n",
    "\n",
    "plt.xlabel('$x$')\n",
    "plt.ylabel(r'$p(x|\\alpha,\\beta)$')\n",
    "plt.title('Beta Distribution')\n",
    "\n",
    "plt.legend(loc=0)\n",
    "plt.show()\n",
    "\n",
    "\n",
    "\n"
   ]
  },
  {
   "cell_type": "markdown",
   "metadata": {},
   "source": [
    "### Gamma\n",
    "\n",
    "Gamma prior $Y \\sim \\Gamma(\\alpha,\\beta) \\Rightarrow$\n",
    "\n",
    "$$f(y|\\alpha,\\beta)=\\frac{\\beta^\\alpha}{\\Gamma(\\alpha)} \\lambda^{\\alpha-1} e^{- \\beta \\lambda} I_{Y \\gt 0} $$\n",
    "\n",
    "$$E[X] = \\frac{\\alpha}{\\beta} $$\n",
    "\n",
    "$$Var(X)= \\frac{\\alpha}{\\beta ^2} $$\n",
    "\n",
    "where $\\Gamma(.)$ is the gamma function, a generalization of the factorial function which can accept\n",
    "non-integer arguments. If n is a positive integer, then $\\Gamma(n)=(n-1)!$. Note also that $\\alpha > 0$\n",
    "and $\\beta > 0$.\n",
    "The exponential distribution is a special case of the gamma distribution with $\\alpha=1$."
   ]
  },
  {
   "cell_type": "code",
   "execution_count": 4,
   "metadata": {
    "scrolled": true,
    "tags": [
     "hide-input"
    ]
   },
   "outputs": [
    {
     "data": {
      "image/png": "[encoded data removed]",
      "text/plain": [
       "<Figure size 360x270 with 1 Axes>"
      ]
     },
     "metadata": {
      "needs_background": "light"
     },
     "output_type": "display_data"
    },
    {
     "data": {
      "text/html": [
       "<script>\n",
       "code_show=true; \n",
       "function code_toggle() {\n",
       "    if (code_show){\n",
       "        $('div.cell.code_cell.rendered.selected div.input').hide();\n",
       "    } else {\n",
       "        $('div.cell.code_cell.rendered.selected div.input').show();\n",
       "    }\n",
       "    code_show = !code_show\n",
       "} \n",
       "\n",
       "$( document ).ready(code_toggle);\n",
       "</script>\n",
       "\n",
       "To show/hide this cell's raw code input, click <a href=\"javascript:code_toggle()\">here</a>."
      ],
      "text/plain": [
       "<IPython.core.display.HTML object>"
      ]
     },
     "execution_count": 4,
     "metadata": {},
     "output_type": "execute_result"
    }
   ],
   "source": [
    "\n",
    "import numpy as np\n",
    "from scipy.stats import gamma\n",
    "from matplotlib import pyplot as plt\n",
    "\n",
    "\n",
    "\n",
    "#------------------------------------------------------------\n",
    "# plot the distributions\n",
    "k_values = [1, 2, 3, 5]\n",
    "theta_values = [2, 1, 1, 0.5]\n",
    "linestyles = ['-', '--', ':', '-.']\n",
    "x = np.linspace(1E-6, 10, 1000)\n",
    "\n",
    "#------------------------------------------------------------\n",
    "# plot the distributions\n",
    "fig, ax = plt.subplots(figsize=(5, 3.75))\n",
    "\n",
    "for k, t, ls in zip(k_values, theta_values, linestyles):\n",
    "    dist = gamma(k, 0, t)\n",
    "    plt.plot(x, dist.pdf(x), ls=ls, c='black',\n",
    "             label=r'$\\alpha=%.1f,\\ \\beta=%.1f$' % (k, t))\n",
    "\n",
    "plt.xlim(0, 10)\n",
    "plt.ylim(0, 0.45)\n",
    "\n",
    "plt.xlabel('$x$')\n",
    "plt.ylabel(r'$p(x|\\alpha,\\beta)$')\n",
    "plt.title('Example Gamma Distribution')\n",
    "\n",
    "plt.legend(loc=0)\n",
    "plt.show()\n",
    "\n",
    "\n",
    "\n"
   ]
  },
  {
   "cell_type": "markdown",
   "metadata": {},
   "source": [
    "Note that in python to print the cumulative value (at p=0.1) for the gamma given $\\alpha=6$ and $\\beta=81.5$ you can use the following code taking in mind that the parameter $\\mathrm{scale}$ is $1/\\beta$:\n",
    "\n",
    "\n",
    "gamma.cdf(0.1,6,scale=1/81.5)\n"
   ]
  },
  {
   "cell_type": "markdown",
   "metadata": {},
   "source": [
    "In the next  [section](distributionPython) it is reported the list of main python function to compute the different probabilities\n"
   ]
  }
 ],
 "metadata": {
  "celltoolbar": "Tags",
  "kernelspec": {
   "display_name": "Python 3",
   "language": "python",
   "name": "python3"
  },
  "language_info": {
   "codemirror_mode": {
    "name": "ipython",
    "version": 3
   },
   "file_extension": ".py",
   "mimetype": "text/x-python",
   "name": "python",
   "nbconvert_exporter": "python",
   "pygments_lexer": "ipython3",
   "version": "3.7.5"
  }
 },
 "nbformat": 4,
 "nbformat_minor": 4
}
