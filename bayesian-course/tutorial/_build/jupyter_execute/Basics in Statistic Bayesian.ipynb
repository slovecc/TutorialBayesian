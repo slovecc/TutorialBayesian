{
 "cells": [
  {
   "cell_type": "markdown",
   "metadata": {},
   "source": [
    "#  Basics in Statistic Bayesian  <a class=\"anchor\" id=\"chapter1\"></a>\n",
    "\n",
    "In this introductory chapter we want to do a quick review of basics in Statistic that we will use in this course:\n",
    "\n",
    "\n",
    "## Discrete and continuous distributions [section](#distributions)\n",
    "\n",
    "\n",
    "\n",
    "```{figure} distribution.png\n",
    "---\n",
    "height: 300px\n",
    "name: log-figure\n",
    "---\n",
    "```\n",
    "\n",
    "## Bayesian Theorem [section](#bayes)\n",
    "\n",
    "\n",
    "```{figure} logoBayes.png\n",
    "---\n",
    "height: 300px\n",
    "name: log-figure\n",
    "---\n",
    "```\n",
    "\n",
    "\n",
    "## Bayesian Inference [section](#guideBayesian)\n",
    "\n",
    "\n",
    "```{figure} joke.png\n",
    "---\n",
    "height: 300px\n",
    "name: log-figure\n",
    "---\n",
    "```\n",
    "\n",
    "\n",
    "\n"
   ]
  },
  {
   "cell_type": "code",
   "execution_count": null,
   "metadata": {},
   "outputs": [],
   "source": []
  },
  {
   "cell_type": "markdown",
   "metadata": {},
   "source": [
    "\n",
    "```{toctree}\n",
    ":hidden:\n",
    ":titlesonly:\n",
    "\n",
    "\n",
    "chapt1/Review more common discrete and continuous distributions\n",
    "chapt1/Review Bayesian Theorem\n",
    "chapt1/Bayesian Inference\n",
    "```\n"
   ]
  }
 ],
 "metadata": {
  "celltoolbar": "Tags",
  "kernelspec": {
   "display_name": "Python 3",
   "language": "python",
   "name": "python3"
  },
  "language_info": {
   "codemirror_mode": {
    "name": "ipython",
    "version": 3
   },
   "file_extension": ".py",
   "mimetype": "text/x-python",
   "name": "python",
   "nbconvert_exporter": "python",
   "pygments_lexer": "ipython3",
   "version": "3.7.5"
  }
 },
 "nbformat": 4,
 "nbformat_minor": 4
}