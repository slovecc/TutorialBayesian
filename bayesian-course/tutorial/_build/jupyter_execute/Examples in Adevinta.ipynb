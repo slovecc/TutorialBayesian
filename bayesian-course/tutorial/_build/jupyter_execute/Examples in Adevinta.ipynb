{
 "cells": [
  {
   "cell_type": "markdown",
   "metadata": {},
   "source": [
    "# Examples in Adevinta  <a class=\"anchor\" id=\"chapter5\"></a>\n"
   ]
  },
  {
   "cell_type": "markdown",
   "metadata": {},
   "source": [
    "In this section, we collect all the possible application of Bayesian statistic inside Adevinta:\n",
    "\n",
    "- Example Searches with Clicks\n",
    "- Example Performance of searches per platform\n",
    "- Example Ratings\n"
   ]
  },
  {
   "cell_type": "code",
   "execution_count": null,
   "metadata": {},
   "outputs": [],
   "source": []
  },
  {
   "cell_type": "markdown",
   "metadata": {},
   "source": [
    "\n",
    "```{toctree}\n",
    ":hidden:\n",
    ":titlesonly:\n",
    "\n",
    "\n",
    "chaptExamples/Example Searches with Clicks\n",
    "chaptExamples/Example Performance of searches per platform\n",
    "chaptExamples/Example Ratings\n",
    "```\n"
   ]
  }
 ],
 "metadata": {
  "kernelspec": {
   "display_name": "Python 3",
   "language": "python",
   "name": "python3"
  },
  "language_info": {
   "codemirror_mode": {
    "name": "ipython",
    "version": 3
   },
   "file_extension": ".py",
   "mimetype": "text/x-python",
   "name": "python",
   "nbconvert_exporter": "python",
   "pygments_lexer": "ipython3",
   "version": "3.7.5"
  }
 },
 "nbformat": 4,
 "nbformat_minor": 4
}