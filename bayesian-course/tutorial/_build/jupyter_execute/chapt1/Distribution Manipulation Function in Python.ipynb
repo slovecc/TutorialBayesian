{
 "cells": [
  {
   "cell_type": "markdown",
   "metadata": {},
   "source": [
    "## Distribution Manipulation Functions in Python\n",
    "\n",
    "### Common Functionality\n",
    "\n",
    "The typycal funcions to manipulate distributions are:\n",
    "\n",
    "| Function           | What it does                                               |\n",
    "|:------------------ |:---------------------------------------------------------- |\n",
    "| dnorm(x, mean, sd) | Evaluate the PDF at x (x=mean, sd=standard deviation)      |\n",
    "| pnorm(q, mean, sd) | Evaluate the CDF at q (x=mean, sd=standard deviation)      |\n",
    "| qnorm(p, mean, sd) | Evaluate the quantile at p (x=mean, sd=standard deviation) |\n",
    "| rnorm(n, mean, sd) | Generate n pseudo-random values from distribution .        |\n",
    "\n",
    "![alt text](fig-1.png \"Title\")\n"
   ]
  },
  {
   "cell_type": "code",
   "execution_count": 1,
   "metadata": {},
   "outputs": [],
   "source": [
    "import scipy.stats as stats"
   ]
  },
  {
   "cell_type": "code",
   "execution_count": 2,
   "metadata": {
    "collapsed": true
   },
   "outputs": [
    {
     "name": "stdout",
     "output_type": "stream",
     "text": [
      "rv_dnorm: 0.33322460289179967\n",
      "rv_pnorm: 0.7257468822499265\n",
      "rv_qnorm: 0.2533471031357997\n",
      "rv_rnorm: [ 1.71343956 -0.06539251 -0.66670657 -0.23889672  0.93825585  1.30445164\n",
      " -0.03060366 -0.39432289  0.00731171 -2.25294338]\n"
     ]
    }
   ],
   "source": [
    "rv_dnorm = stats.norm.pdf(0.6, loc=0, scale=1)\n",
    "rv_pnorm = stats.norm.cdf(0.6, loc=0, scale=1)\n",
    "rv_qnorm = stats.norm.ppf(0.6, loc=0, scale=1)\n",
    "rv_rnorm = stats.norm.rvs(size=10, loc=0, scale=1)\n",
    "\n",
    "print(\"rv_dnorm:\", rv_dnorm)\n",
    "print(\"rv_pnorm:\", rv_pnorm)\n",
    "print(\"rv_qnorm:\", rv_qnorm)\n",
    "print(\"rv_rnorm:\", rv_rnorm)"
   ]
  },
  {
   "cell_type": "code",
   "execution_count": 3,
   "metadata": {
    "collapsed": true
   },
   "outputs": [
    {
     "name": "stdout",
     "output_type": "stream",
     "text": [
      "rv_dnorm: 0.33322460289179967\n",
      "rv_pnorm: 0.7257468822499265\n",
      "rv_qnorm: 0.2533471031357997\n",
      "rv_rnorm: [-0.76494208  0.57433505  0.16009074 -0.4209448   0.47340362  1.11714678\n",
      " -1.19046476  0.74760878  0.42018961  0.05354155]\n"
     ]
    }
   ],
   "source": [
    "rv = stats.norm(loc=0, scale=1)\n",
    "rv_dnorm = rv.pdf(0.6)\n",
    "rv_pnorm = rv.cdf(0.6)\n",
    "rv_qnorm = rv.ppf(0.6)\n",
    "rv_rnorm = rv.rvs(size=10)\n",
    "\n",
    "print(\"rv_dnorm:\", rv_dnorm)\n",
    "print(\"rv_pnorm:\", rv_pnorm)\n",
    "print(\"rv_qnorm:\", rv_qnorm)\n",
    "print(\"rv_rnorm:\", rv_rnorm)"
   ]
  },
  {
   "cell_type": "markdown",
   "metadata": {},
   "source": [
    "### Common Distributions\n",
    "\n",
    "We are going to see how to do this in python for a superset of distributions which ar available in scipy.stats and listed in the [scipy.stats documentation](https://docs.scipy.org/doc/scipy/reference/stats.html).\n",
    "\n",
    "* Binomial(n, p)\n",
    "* Poisson($\\lambda$)\n",
    "* Exponential($\\lambda$)\n",
    "* Gamma($\\alpha$, $\\beta$)\n",
    "* Uniform(a, b)\n",
    "* Beta($\\alpha$, $\\beta$)\n",
    "* Normal($\\mu$, $\\sigma$<sup>2</sup>)\n",
    "* Student t($\\nu$)\n",
    "\n",
    "Below we will compute some values using scipy.stats functions."
   ]
  },
  {
   "cell_type": "markdown",
   "metadata": {},
   "source": [
    "#### Example 1\n",
    "\n",
    "Suppose X ∼ Binomial(5, 0.6). Evaluate the CDF at x=1, or equivalently P(X ≤ 1) ≈ 0.087. Verify that the quantile value returned at this CDF is the same as our original value of x."
   ]
  },
  {
   "cell_type": "code",
   "execution_count": 4,
   "metadata": {
    "collapsed": true
   },
   "outputs": [
    {
     "data": {
      "text/plain": [
       "0.08704"
      ]
     },
     "execution_count": 4,
     "metadata": {},
     "output_type": "execute_result"
    }
   ],
   "source": [
    "stats.binom.cdf(1, n=5, p=0.6)"
   ]
  },
  {
   "cell_type": "code",
   "execution_count": 5,
   "metadata": {
    "collapsed": true
   },
   "outputs": [
    {
     "data": {
      "text/plain": [
       "1.0"
      ]
     },
     "execution_count": 5,
     "metadata": {},
     "output_type": "execute_result"
    }
   ],
   "source": [
    "stats.binom.ppf(0.08704, n=5, p=0.6)"
   ]
  },
  {
   "cell_type": "markdown",
   "metadata": {},
   "source": [
    "#### Example 2\n",
    "\n",
    "Suppose Y ∼ Exp(1). Verify that the range 0.105 < Y ≤ 2.303 contains the middle 80% of the probability mass."
   ]
  },
  {
   "cell_type": "code",
   "execution_count": 6,
   "metadata": {
    "collapsed": true
   },
   "outputs": [
    {
     "data": {
      "text/plain": [
       "array([0.10536052, 2.30258509])"
      ]
     },
     "execution_count": 6,
     "metadata": {},
     "output_type": "execute_result"
    }
   ],
   "source": [
    "stats.expon.ppf([0.1, 0.9], scale=1)"
   ]
  },
  {
   "cell_type": "markdown",
   "metadata": {},
   "source": [
    "#### Exercise 1\n",
    "\n",
    "Let X ∼ Pois(3). Find P(X = 1)."
   ]
  },
  {
   "cell_type": "code",
   "execution_count": 7,
   "metadata": {
    "collapsed": true
   },
   "outputs": [
    {
     "data": {
      "text/plain": [
       "0.14936120510359185"
      ]
     },
     "execution_count": 7,
     "metadata": {},
     "output_type": "execute_result"
    }
   ],
   "source": [
    "stats.poisson.pmf(1, mu=3)"
   ]
  },
  {
   "cell_type": "markdown",
   "metadata": {},
   "source": [
    "#### Exercise 2\n",
    "\n",
    "Let X ∼ Pois(3). Find P(X ≤ 1)."
   ]
  },
  {
   "cell_type": "code",
   "execution_count": 8,
   "metadata": {
    "collapsed": true
   },
   "outputs": [
    {
     "data": {
      "text/plain": [
       "0.1991482734714558"
      ]
     },
     "execution_count": 8,
     "metadata": {},
     "output_type": "execute_result"
    }
   ],
   "source": [
    "stats.poisson.cdf(1, mu=3)"
   ]
  },
  {
   "cell_type": "markdown",
   "metadata": {},
   "source": [
    "#### Exercise 3\n",
    "\n",
    "Let X ∼ Pois(3). Find P(X > 1)."
   ]
  },
  {
   "cell_type": "code",
   "execution_count": 9,
   "metadata": {
    "collapsed": true
   },
   "outputs": [
    {
     "data": {
      "text/plain": [
       "0.8008517265285442"
      ]
     },
     "execution_count": 9,
     "metadata": {},
     "output_type": "execute_result"
    }
   ],
   "source": [
    "1 - stats.poisson.cdf(1, mu=3)"
   ]
  },
  {
   "cell_type": "markdown",
   "metadata": {},
   "source": [
    "#### Exercise 4\n",
    "\n",
    "Let Y ∼ Gamma(2, 1/3). Find P(0.5 < Y < 1.5)."
   ]
  },
  {
   "cell_type": "code",
   "execution_count": 10,
   "metadata": {
    "collapsed": true
   },
   "outputs": [
    {
     "data": {
      "text/plain": [
       "0.07776602280343295"
      ]
     },
     "execution_count": 10,
     "metadata": {},
     "output_type": "execute_result"
    }
   ],
   "source": [
    "rv = stats.gamma(a=2, scale=3)\n",
    "rv.cdf(1.5) - rv.cdf(0.5)"
   ]
  },
  {
   "cell_type": "markdown",
   "metadata": {},
   "source": [
    "#### Exercise 5\n",
    "\n",
    "Let Z ∼ N(0, 1). Find z such that P(Z < z) = 0.975."
   ]
  },
  {
   "cell_type": "code",
   "execution_count": 11,
   "metadata": {
    "collapsed": true
   },
   "outputs": [
    {
     "data": {
      "text/plain": [
       "1.959963984540054"
      ]
     },
     "execution_count": 11,
     "metadata": {},
     "output_type": "execute_result"
    }
   ],
   "source": [
    "stats.norm.ppf(0.975, loc=0, scale=1)"
   ]
  },
  {
   "cell_type": "markdown",
   "metadata": {},
   "source": [
    "#### Exercise 6\n",
    "\n",
    "Let Z ∼ N(0, 1). Find P(−1.96 < Z < 1.96)."
   ]
  },
  {
   "cell_type": "code",
   "execution_count": 12,
   "metadata": {
    "collapsed": true
   },
   "outputs": [
    {
     "data": {
      "text/plain": [
       "0.950004209703559"
      ]
     },
     "execution_count": 12,
     "metadata": {},
     "output_type": "execute_result"
    }
   ],
   "source": [
    "rv = stats.norm(loc=0, scale=1)\n",
    "rv.cdf(1.96) - rv.cdf(-1.96)"
   ]
  },
  {
   "cell_type": "markdown",
   "metadata": {},
   "source": [
    "#### Exercise 7\n",
    "\n",
    "Let Z ∼ N(0, 1). Find z such that P(−z < Z < z) = 0.90."
   ]
  },
  {
   "cell_type": "code",
   "execution_count": 13,
   "metadata": {
    "collapsed": true
   },
   "outputs": [
    {
     "name": "stdout",
     "output_type": "stream",
     "text": [
      "[-1.64485363  1.64485363]\n",
      "z: 1.6448536269514722\n"
     ]
    }
   ],
   "source": [
    "z_range = stats.norm.ppf([0.05, 0.95], loc=0, scale=1)\n",
    "print(z_range)\n",
    "print(\"z:\", z_range[1])"
   ]
  },
  {
   "cell_type": "code",
   "execution_count": null,
   "metadata": {},
   "outputs": [],
   "source": []
  }
 ],
 "metadata": {
  "celltoolbar": "Tags",
  "kernelspec": {
   "display_name": "Python 3",
   "language": "python",
   "name": "python3"
  },
  "language_info": {
   "codemirror_mode": {
    "name": "ipython",
    "version": 3
   },
   "file_extension": ".py",
   "mimetype": "text/x-python",
   "name": "python",
   "nbconvert_exporter": "python",
   "pygments_lexer": "ipython3",
   "version": "3.7.5"
  }
 },
 "nbformat": 4,
 "nbformat_minor": 2
}