{
 "cells": [
  {
   "cell_type": "markdown",
   "metadata": {},
   "source": [
    "# Bayesian Inference  <a class=\"anchor\" id=\"guideBayesian\"></a> \n",
    "\n",
    "Taken Bayesian theorem as follow:\n",
    "\n",
    "$$ \t \\underbrace{P(\\theta|X)}_{posterior} \\; \\alpha  \\; \\underbrace{P(X|\\theta)}_{likelihood} \\cdot \\underbrace{P(\\theta)}_{prior} $$ \n",
    "\n",
    "\n",
    "Bayesian Inference has three steps.\n",
    "\n",
    "Step 1. [Prior] Choose a PDF to model your parameter $\\theta$, aka the prior distribution P($\\theta$). This is your best guess about parameters before seeing the data X.\n",
    "\n",
    "Step 2. [Likelihood] Choose a PDF for P(X|$\\theta$). Basically you are modeling how the data X will look like given the parameter $\\theta$.\n",
    "\n",
    "Step 3. [Posterior] Calculate the posterior distribution P($\\theta$|X) and pick the $\\theta$ that has the highest P($\\theta$|X).\n",
    "And the posterior becomes the new prior. Repeat step 3 as you get more data."
   ]
  },
  {
   "cell_type": "markdown",
   "metadata": {},
   "source": [
    "## Credible intervals\n",
    "\n",
    "As the Bayesian inference returns a distribution of possible effect values (the posterior), \n",
    "the credible interval is just the range containing a particular percentage of probable values. Credible intervals are not unique on a posterior distribution. Methods for defining a suitable credible interval include:\n",
    "\n",
    "- Choosing the narrowest interval, which for a unimodal distribution will involve choosing those values of highest probability density including the mode (the maximum a posteriori). This is sometimes called the highest posterior density interval (HPDI).\n",
    "\n",
    "- Choosing the interval where the probability of being below the interval is as likely as being above it. This interval will include the median. This is sometimes called the equal-tailed interval (ETI).\n",
    "\n",
    "- Assuming that the mean exists, choosing the interval for which the mean is the central point.\n",
    "\n",
    "\n",
    "```{figure} credible_interval.png\n",
    "---\n",
    "height: 300px\n",
    "name: log-figure\n",
    "---\n",
    "```"
   ]
  }
 ],
 "metadata": {
  "celltoolbar": "Tags",
  "kernelspec": {
   "display_name": "Python 3",
   "language": "python",
   "name": "python3"
  },
  "language_info": {
   "codemirror_mode": {
    "name": "ipython",
    "version": 3
   },
   "file_extension": ".py",
   "mimetype": "text/x-python",
   "name": "python",
   "nbconvert_exporter": "python",
   "pygments_lexer": "ipython3",
   "version": "3.7.5"
  }
 },
 "nbformat": 4,
 "nbformat_minor": 4
}