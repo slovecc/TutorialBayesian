{
 "cells": [
  {
   "cell_type": "markdown",
   "metadata": {
    "collapsed": true
   },
   "source": [
    "(ctrexamples)=\n",
    "## Uncertainty of unique clicks rate in searches:\n",
    "\n",
    "We are going to compute the CTR (ratio betwen daily searchers with at least one click over total daily searches) in one marketplace and we are ging to see the uncertainty of the value every day.\n",
    "\n",
    "One possible applications of this is measure  feature flag effecct for example or quantify the variability that pur simple statistics have.\n",
    "\n",
    "[Here](https://towardsdatascience.com/bayesian-inference-intuition-and-example-148fd8fb95d6) an article of reference.\n",
    "\n"
   ]
  },
  {
   "cell_type": "code",
   "execution_count": 1,
   "metadata": {},
   "outputs": [],
   "source": [
    "import os\n",
    "import numpy as np\n",
    "import pandas as pd\n",
    "import matplotlib.pyplot as plt\n",
    "from collections import Counter\n",
    "from operator import itemgetter\n",
    "%matplotlib inline"
   ]
  },
  {
   "cell_type": "markdown",
   "metadata": {},
   "source": [
    "### Preparing teh dataset\n",
    "\n",
    "We are going to use the following dataset (LINK)\n",
    "\n"
   ]
  },
  {
   "cell_type": "code",
   "execution_count": 2,
   "metadata": {
    "tags": [
     "hide-output"
    ]
   },
   "outputs": [
    {
     "data": {
      "text/html": [
       "<div>\n",
       "<style scoped>\n",
       "    .dataframe tbody tr th:only-of-type {\n",
       "        vertical-align: middle;\n",
       "    }\n",
       "\n",
       "    .dataframe tbody tr th {\n",
       "        vertical-align: top;\n",
       "    }\n",
       "\n",
       "    .dataframe thead th {\n",
       "        text-align: right;\n",
       "    }\n",
       "</style>\n",
       "<table border=\"1\" class=\"dataframe\">\n",
       "  <thead>\n",
       "    <tr style=\"text-align: right;\">\n",
       "      <th></th>\n",
       "      <th>date</th>\n",
       "      <th>nof_clicks</th>\n",
       "      <th>nof_listing_pages_in_the_search</th>\n",
       "      <th>click_bool</th>\n",
       "    </tr>\n",
       "  </thead>\n",
       "  <tbody>\n",
       "    <tr>\n",
       "      <th>0</th>\n",
       "      <td>2021-03-05</td>\n",
       "      <td>4</td>\n",
       "      <td>7</td>\n",
       "      <td>1</td>\n",
       "    </tr>\n",
       "    <tr>\n",
       "      <th>1</th>\n",
       "      <td>2021-03-04</td>\n",
       "      <td>3</td>\n",
       "      <td>1</td>\n",
       "      <td>1</td>\n",
       "    </tr>\n",
       "    <tr>\n",
       "      <th>2</th>\n",
       "      <td>2021-03-05</td>\n",
       "      <td>6</td>\n",
       "      <td>3</td>\n",
       "      <td>1</td>\n",
       "    </tr>\n",
       "    <tr>\n",
       "      <th>3</th>\n",
       "      <td>2021-03-06</td>\n",
       "      <td>48</td>\n",
       "      <td>59</td>\n",
       "      <td>1</td>\n",
       "    </tr>\n",
       "    <tr>\n",
       "      <th>4</th>\n",
       "      <td>2021-03-06</td>\n",
       "      <td>4</td>\n",
       "      <td>1</td>\n",
       "      <td>1</td>\n",
       "    </tr>\n",
       "  </tbody>\n",
       "</table>\n",
       "</div>"
      ],
      "text/plain": [
       "         date  nof_clicks  nof_listing_pages_in_the_search  click_bool\n",
       "0  2021-03-05           4                                7           1\n",
       "1  2021-03-04           3                                1           1\n",
       "2  2021-03-05           6                                3           1\n",
       "3  2021-03-06          48                               59           1\n",
       "4  2021-03-06           4                                1           1"
      ]
     },
     "execution_count": 2,
     "metadata": {},
     "output_type": "execute_result"
    }
   ],
   "source": [
    "searches = pd.read_csv(\"../../../bayesian-course/datasets-toys/datasets/searches_with_clicks.csv\")\n",
    "searches['click_bool'] = (searches['nof_clicks']>0).astype(int)\n",
    "searches.head()"
   ]
  },
  {
   "cell_type": "markdown",
   "metadata": {},
   "source": [
    "We have about 1.08M searches with the total number of clicks and the number of pages done in the search."
   ]
  },
  {
   "cell_type": "code",
   "execution_count": 3,
   "metadata": {},
   "outputs": [
    {
     "data": {
      "text/html": [
       "<div>\n",
       "<style scoped>\n",
       "    .dataframe tbody tr th:only-of-type {\n",
       "        vertical-align: middle;\n",
       "    }\n",
       "\n",
       "    .dataframe tbody tr th {\n",
       "        vertical-align: top;\n",
       "    }\n",
       "\n",
       "    .dataframe thead th {\n",
       "        text-align: right;\n",
       "    }\n",
       "</style>\n",
       "<table border=\"1\" class=\"dataframe\">\n",
       "  <thead>\n",
       "    <tr style=\"text-align: right;\">\n",
       "      <th></th>\n",
       "      <th>nof_searches_with_clicks</th>\n",
       "      <th>nof_searches</th>\n",
       "      <th>uctr</th>\n",
       "    </tr>\n",
       "    <tr>\n",
       "      <th>date</th>\n",
       "      <th></th>\n",
       "      <th></th>\n",
       "      <th></th>\n",
       "    </tr>\n",
       "  </thead>\n",
       "  <tbody>\n",
       "    <tr>\n",
       "      <th>2021-03-01</th>\n",
       "      <td>35610</td>\n",
       "      <td>65769</td>\n",
       "      <td>0.541440</td>\n",
       "    </tr>\n",
       "    <tr>\n",
       "      <th>2021-03-02</th>\n",
       "      <td>60866</td>\n",
       "      <td>110757</td>\n",
       "      <td>0.549545</td>\n",
       "    </tr>\n",
       "    <tr>\n",
       "      <th>2021-03-03</th>\n",
       "      <td>60883</td>\n",
       "      <td>110467</td>\n",
       "      <td>0.551142</td>\n",
       "    </tr>\n",
       "    <tr>\n",
       "      <th>2021-03-04</th>\n",
       "      <td>59959</td>\n",
       "      <td>109040</td>\n",
       "      <td>0.549881</td>\n",
       "    </tr>\n",
       "    <tr>\n",
       "      <th>2021-03-05</th>\n",
       "      <td>57267</td>\n",
       "      <td>105247</td>\n",
       "      <td>0.544120</td>\n",
       "    </tr>\n",
       "    <tr>\n",
       "      <th>2021-03-06</th>\n",
       "      <td>54891</td>\n",
       "      <td>100493</td>\n",
       "      <td>0.546217</td>\n",
       "    </tr>\n",
       "    <tr>\n",
       "      <th>2021-03-07</th>\n",
       "      <td>59305</td>\n",
       "      <td>108108</td>\n",
       "      <td>0.548572</td>\n",
       "    </tr>\n",
       "    <tr>\n",
       "      <th>2021-03-08</th>\n",
       "      <td>59653</td>\n",
       "      <td>108763</td>\n",
       "      <td>0.548468</td>\n",
       "    </tr>\n",
       "    <tr>\n",
       "      <th>2021-03-09</th>\n",
       "      <td>59679</td>\n",
       "      <td>108558</td>\n",
       "      <td>0.549743</td>\n",
       "    </tr>\n",
       "    <tr>\n",
       "      <th>2021-03-10</th>\n",
       "      <td>59873</td>\n",
       "      <td>108963</td>\n",
       "      <td>0.549480</td>\n",
       "    </tr>\n",
       "    <tr>\n",
       "      <th>2021-03-11</th>\n",
       "      <td>25021</td>\n",
       "      <td>45065</td>\n",
       "      <td>0.555220</td>\n",
       "    </tr>\n",
       "  </tbody>\n",
       "</table>\n",
       "</div>"
      ],
      "text/plain": [
       "            nof_searches_with_clicks  nof_searches      uctr\n",
       "date                                                        \n",
       "2021-03-01                     35610         65769  0.541440\n",
       "2021-03-02                     60866        110757  0.549545\n",
       "2021-03-03                     60883        110467  0.551142\n",
       "2021-03-04                     59959        109040  0.549881\n",
       "2021-03-05                     57267        105247  0.544120\n",
       "2021-03-06                     54891        100493  0.546217\n",
       "2021-03-07                     59305        108108  0.548572\n",
       "2021-03-08                     59653        108763  0.548468\n",
       "2021-03-09                     59679        108558  0.549743\n",
       "2021-03-10                     59873        108963  0.549480\n",
       "2021-03-11                     25021         45065  0.555220"
      ]
     },
     "execution_count": 3,
     "metadata": {},
     "output_type": "execute_result"
    }
   ],
   "source": [
    "data = searches.groupby(\"date\").agg({'click_bool':'sum','nof_listing_pages_in_the_search':'count'})\n",
    "data['ctr'] =  data['click_bool']/data['nof_listing_pages_in_the_search']\n",
    "data.columns = ['nof_searches_with_clicks', 'nof_searches', 'uctr']\n",
    "data"
   ]
  },
  {
   "cell_type": "code",
   "execution_count": 4,
   "metadata": {},
   "outputs": [
    {
     "data": {
      "text/html": [
       "<div>\n",
       "<style scoped>\n",
       "    .dataframe tbody tr th:only-of-type {\n",
       "        vertical-align: middle;\n",
       "    }\n",
       "\n",
       "    .dataframe tbody tr th {\n",
       "        vertical-align: top;\n",
       "    }\n",
       "\n",
       "    .dataframe thead th {\n",
       "        text-align: right;\n",
       "    }\n",
       "</style>\n",
       "<table border=\"1\" class=\"dataframe\">\n",
       "  <thead>\n",
       "    <tr style=\"text-align: right;\">\n",
       "      <th></th>\n",
       "      <th>nof_searches_with_clicks</th>\n",
       "      <th>nof_searches</th>\n",
       "      <th>uctr</th>\n",
       "    </tr>\n",
       "    <tr>\n",
       "      <th>date</th>\n",
       "      <th></th>\n",
       "      <th></th>\n",
       "      <th></th>\n",
       "    </tr>\n",
       "  </thead>\n",
       "  <tbody>\n",
       "    <tr>\n",
       "      <th>2021-03-01</th>\n",
       "      <td>35610</td>\n",
       "      <td>65769</td>\n",
       "      <td>0.54144</td>\n",
       "    </tr>\n",
       "  </tbody>\n",
       "</table>\n",
       "</div>"
      ],
      "text/plain": [
       "            nof_searches_with_clicks  nof_searches     uctr\n",
       "date                                                       \n",
       "2021-03-01                     35610         65769  0.54144"
      ]
     },
     "execution_count": 4,
     "metadata": {},
     "output_type": "execute_result"
    }
   ],
   "source": [
    "data_dt = data[data.index=='2021-03-01'].copy()\n",
    "data_dt"
   ]
  },
  {
   "cell_type": "markdown",
   "metadata": {},
   "source": [
    "For every day we know:\n",
    "\n",
    "- $\\theta$ is the probability that one search has one click (this is following a Benoulli($\\theta$)\n",
    "- Random variable $X$ which represnets number of searches with clicks during a day follows a binomial distributions $B(n,\\theta)$ where $n$ is the number of total daily searches and $\\theta$ is the probability that one search has one click . Then, the unique CTR (uctr) is the expected value of this distribution:\n",
    "\n",
    "$$\n",
    "E(X) = \\theta = uctr\n",
    "$$\n",
    "\n",
    "We want to create a model for the daily unique click rate (uctr) using bayesian statistics."
   ]
  },
  {
   "cell_type": "markdown",
   "metadata": {},
   "source": [
    "Bayesian Inference has three steps.\n",
    "\n",
    "Step 1. [Prior] Choose a PDF to model your parameter $\\theta$, aka the prior distribution P($\\theta$). This is your best guess about parameters before seeing the data X.\n",
    "\n",
    "Step 2. [Likelihood] Choose a PDF for P(X|$\\theta$). Basically you are modeling how the data X will look like given the parameter $\\theta$.\n",
    "\n",
    "Step 3. [Posterior] Calculate the posterior distribution P($\\theta$|X) and pick the $\\theta$ that has the highest P($\\theta$|X).\n",
    "And the posterior becomes the new prior. Repeat step 3 as you get more data.\n"
   ]
  },
  {
   "cell_type": "markdown",
   "metadata": {},
   "source": [
    "#### STEP 1: Prior P($\\theta$)"
   ]
  },
  {
   "cell_type": "markdown",
   "metadata": {
    "collapsed": true
   },
   "source": [
    "We can start with a weak prior, for example:\n",
    "$$\n",
    "P(\\theta) = \\beta(1,1)\n",
    "$$"
   ]
  },
  {
   "cell_type": "code",
   "execution_count": 5,
   "metadata": {},
   "outputs": [],
   "source": [
    "import scipy.stats as stats\n",
    "import matplotlib.pyplot as plt\n",
    "a = 1\n",
    "b = 1\n",
    "# domain θ\n",
    "theta_range = np.linspace(0, 1, 1000)\n",
    "# prior distribution P(θ)\n",
    "prior = stats.beta.pdf(x = theta_range, a=a, b=b)"
   ]
  },
  {
   "cell_type": "code",
   "execution_count": 6,
   "metadata": {},
   "outputs": [
    {
     "data": {
      "image/png": "[encoded data removed]",
      "text/plain": [
       "<Figure size 1440x504 with 1 Axes>"
      ]
     },
     "metadata": {
      "filenames": {
       "image/png": "/home/salvo/Desktop/TutorialBayesian/TutorialBayesian/bayesian-course/tutorial/_build/jupyter_execute/chaptExamples/Example Searches with Clicks_12_0.png"
      },
      "needs_background": "light"
     },
     "output_type": "display_data"
    }
   ],
   "source": [
    "# Plotting the prior distribution \n",
    "plt.rcParams['figure.figsize'] = [20, 7]\n",
    "fig, ax = plt.subplots()\n",
    "plt.plot(theta_range, prior, linewidth=3)\n",
    "# Add a title\n",
    "plt.title('[Prior] PDF of \"Probability of click in one search\"', fontsize=20)\n",
    "# Add X and y Label\n",
    "plt.xlabel('θ', fontsize=16)\n",
    "plt.ylabel('Density', fontsize=16)\n",
    "# Add a grid\n",
    "plt.grid(alpha=.4, linestyle='--')\n",
    "# Show the plot\n",
    "plt.show()"
   ]
  },
  {
   "cell_type": "markdown",
   "metadata": {},
   "source": [
    "#### STEP 2: Likelihood P($X|\\theta$)"
   ]
  },
  {
   "cell_type": "markdown",
   "metadata": {},
   "source": [
    "X is a binary distribution, and we have the total number of searches and we want the probability oto do a clcik in one search $\\theta$.\n",
    "The if we want to compute P($X|\\theta$), basically this is a binomial with parameters n=size and p = $\\theta$"
   ]
  },
  {
   "cell_type": "code",
   "execution_count": 7,
   "metadata": {},
   "outputs": [
    {
     "data": {
      "text/plain": [
       "array([1.89708153e-101])"
      ]
     },
     "execution_count": 7,
     "metadata": {},
     "output_type": "execute_result"
    }
   ],
   "source": [
    "# The sampling dist P(X|θ) with a prior θ\n",
    "likelihood = stats.binom.pmf(k = np.sum(data_dt['nof_searches_with_clicks']), \\\n",
    "                             n = data_dt['nof_searches'], \\\n",
    "                             p = a/(a+b))\n",
    "likelihood"
   ]
  },
  {
   "cell_type": "code",
   "execution_count": 8,
   "metadata": {},
   "outputs": [
    {
     "ename": "ValueError",
     "evalue": "Length of passed values is 1000, index implies 1",
     "output_type": "error",
     "traceback": [
      "\u001b[0;31m---------------------------------------------------------------------------\u001b[0m",
      "\u001b[0;31mValueError\u001b[0m                                Traceback (most recent call last)",
      "\u001b[0;32m<ipython-input-8-613409372926>\u001b[0m in \u001b[0;36m<module>\u001b[0;34m\u001b[0m\n\u001b[1;32m      1\u001b[0m \u001b[0;31m# Likelihood P(X|θ) for all θ's\u001b[0m\u001b[0;34m\u001b[0m\u001b[0;34m\u001b[0m\u001b[0;34m\u001b[0m\u001b[0m\n\u001b[1;32m      2\u001b[0m likelihood = stats.binom.pmf(k = np.sum(data_dt['nof_searches_with_clicks']),n = data_dt['nof_searches'],\\\n\u001b[0;32m----> 3\u001b[0;31m                              p = theta_range)\n\u001b[0m\u001b[1;32m      4\u001b[0m \u001b[0;31m# Create the plot\u001b[0m\u001b[0;34m\u001b[0m\u001b[0;34m\u001b[0m\u001b[0;34m\u001b[0m\u001b[0m\n\u001b[1;32m      5\u001b[0m \u001b[0mfig\u001b[0m\u001b[0;34m,\u001b[0m \u001b[0max\u001b[0m \u001b[0;34m=\u001b[0m \u001b[0mplt\u001b[0m\u001b[0;34m.\u001b[0m\u001b[0msubplots\u001b[0m\u001b[0;34m(\u001b[0m\u001b[0;34m)\u001b[0m\u001b[0;34m\u001b[0m\u001b[0;34m\u001b[0m\u001b[0m\n",
      "\u001b[0;32m~/miniconda3/lib/python3.7/site-packages/scipy/stats/_distn_infrastructure.py\u001b[0m in \u001b[0;36mpmf\u001b[0;34m(self, k, *args, **kwds)\u001b[0m\n\u001b[1;32m   2996\u001b[0m         \u001b[0mcond0\u001b[0m \u001b[0;34m=\u001b[0m \u001b[0mself\u001b[0m\u001b[0;34m.\u001b[0m\u001b[0m_argcheck\u001b[0m\u001b[0;34m(\u001b[0m\u001b[0;34m*\u001b[0m\u001b[0margs\u001b[0m\u001b[0;34m)\u001b[0m\u001b[0;34m\u001b[0m\u001b[0;34m\u001b[0m\u001b[0m\n\u001b[1;32m   2997\u001b[0m         \u001b[0mcond1\u001b[0m \u001b[0;34m=\u001b[0m \u001b[0;34m(\u001b[0m\u001b[0mk\u001b[0m \u001b[0;34m>=\u001b[0m \u001b[0m_a\u001b[0m\u001b[0;34m)\u001b[0m \u001b[0;34m&\u001b[0m \u001b[0;34m(\u001b[0m\u001b[0mk\u001b[0m \u001b[0;34m<=\u001b[0m \u001b[0m_b\u001b[0m\u001b[0;34m)\u001b[0m \u001b[0;34m&\u001b[0m \u001b[0mself\u001b[0m\u001b[0;34m.\u001b[0m\u001b[0m_nonzero\u001b[0m\u001b[0;34m(\u001b[0m\u001b[0mk\u001b[0m\u001b[0;34m,\u001b[0m \u001b[0;34m*\u001b[0m\u001b[0margs\u001b[0m\u001b[0;34m)\u001b[0m\u001b[0;34m\u001b[0m\u001b[0;34m\u001b[0m\u001b[0m\n\u001b[0;32m-> 2998\u001b[0;31m         \u001b[0mcond\u001b[0m \u001b[0;34m=\u001b[0m \u001b[0mcond0\u001b[0m \u001b[0;34m&\u001b[0m \u001b[0mcond1\u001b[0m\u001b[0;34m\u001b[0m\u001b[0;34m\u001b[0m\u001b[0m\n\u001b[0m\u001b[1;32m   2999\u001b[0m         \u001b[0moutput\u001b[0m \u001b[0;34m=\u001b[0m \u001b[0mzeros\u001b[0m\u001b[0;34m(\u001b[0m\u001b[0mshape\u001b[0m\u001b[0;34m(\u001b[0m\u001b[0mcond\u001b[0m\u001b[0;34m)\u001b[0m\u001b[0;34m,\u001b[0m \u001b[0;34m'd'\u001b[0m\u001b[0;34m)\u001b[0m\u001b[0;34m\u001b[0m\u001b[0;34m\u001b[0m\u001b[0m\n\u001b[1;32m   3000\u001b[0m         \u001b[0mplace\u001b[0m\u001b[0;34m(\u001b[0m\u001b[0moutput\u001b[0m\u001b[0;34m,\u001b[0m \u001b[0;34m(\u001b[0m\u001b[0;36m1\u001b[0m\u001b[0;34m-\u001b[0m\u001b[0mcond0\u001b[0m\u001b[0;34m)\u001b[0m \u001b[0;34m+\u001b[0m \u001b[0mnp\u001b[0m\u001b[0;34m.\u001b[0m\u001b[0misnan\u001b[0m\u001b[0;34m(\u001b[0m\u001b[0mk\u001b[0m\u001b[0;34m)\u001b[0m\u001b[0;34m,\u001b[0m \u001b[0mself\u001b[0m\u001b[0;34m.\u001b[0m\u001b[0mbadvalue\u001b[0m\u001b[0;34m)\u001b[0m\u001b[0;34m\u001b[0m\u001b[0;34m\u001b[0m\u001b[0m\n",
      "\u001b[0;32m~/miniconda3/lib/python3.7/site-packages/pandas/core/series.py\u001b[0m in \u001b[0;36m__array_ufunc__\u001b[0;34m(self, ufunc, method, *inputs, **kwargs)\u001b[0m\n\u001b[1;32m    885\u001b[0m             \u001b[0;32mreturn\u001b[0m \u001b[0;32mNone\u001b[0m\u001b[0;34m\u001b[0m\u001b[0;34m\u001b[0m\u001b[0m\n\u001b[1;32m    886\u001b[0m         \u001b[0;32melse\u001b[0m\u001b[0;34m:\u001b[0m\u001b[0;34m\u001b[0m\u001b[0;34m\u001b[0m\u001b[0m\n\u001b[0;32m--> 887\u001b[0;31m             \u001b[0;32mreturn\u001b[0m \u001b[0mconstruct_return\u001b[0m\u001b[0;34m(\u001b[0m\u001b[0mresult\u001b[0m\u001b[0;34m)\u001b[0m\u001b[0;34m\u001b[0m\u001b[0;34m\u001b[0m\u001b[0m\n\u001b[0m\u001b[1;32m    888\u001b[0m \u001b[0;34m\u001b[0m\u001b[0m\n\u001b[1;32m    889\u001b[0m     \u001b[0;32mdef\u001b[0m \u001b[0m__array__\u001b[0m\u001b[0;34m(\u001b[0m\u001b[0mself\u001b[0m\u001b[0;34m,\u001b[0m \u001b[0mdtype\u001b[0m\u001b[0;34m=\u001b[0m\u001b[0;32mNone\u001b[0m\u001b[0;34m)\u001b[0m\u001b[0;34m:\u001b[0m\u001b[0;34m\u001b[0m\u001b[0;34m\u001b[0m\u001b[0m\n",
      "\u001b[0;32m~/miniconda3/lib/python3.7/site-packages/pandas/core/series.py\u001b[0m in \u001b[0;36mconstruct_return\u001b[0;34m(result)\u001b[0m\n\u001b[1;32m    876\u001b[0m                     \u001b[0mwarnings\u001b[0m\u001b[0;34m.\u001b[0m\u001b[0mwarn\u001b[0m\u001b[0;34m(\u001b[0m\u001b[0mmsg\u001b[0m\u001b[0;34m.\u001b[0m\u001b[0mformat\u001b[0m\u001b[0;34m(\u001b[0m\u001b[0mufunc\u001b[0m\u001b[0;34m)\u001b[0m\u001b[0;34m,\u001b[0m \u001b[0mFutureWarning\u001b[0m\u001b[0;34m,\u001b[0m \u001b[0mstacklevel\u001b[0m\u001b[0;34m=\u001b[0m\u001b[0;36m3\u001b[0m\u001b[0;34m)\u001b[0m\u001b[0;34m\u001b[0m\u001b[0;34m\u001b[0m\u001b[0m\n\u001b[1;32m    877\u001b[0m                 \u001b[0;32mreturn\u001b[0m \u001b[0mresult\u001b[0m\u001b[0;34m\u001b[0m\u001b[0;34m\u001b[0m\u001b[0m\n\u001b[0;32m--> 878\u001b[0;31m             \u001b[0;32mreturn\u001b[0m \u001b[0mself\u001b[0m\u001b[0;34m.\u001b[0m\u001b[0m_constructor\u001b[0m\u001b[0;34m(\u001b[0m\u001b[0mresult\u001b[0m\u001b[0;34m,\u001b[0m \u001b[0mindex\u001b[0m\u001b[0;34m=\u001b[0m\u001b[0mindex\u001b[0m\u001b[0;34m,\u001b[0m \u001b[0mname\u001b[0m\u001b[0;34m=\u001b[0m\u001b[0mname\u001b[0m\u001b[0;34m,\u001b[0m \u001b[0mcopy\u001b[0m\u001b[0;34m=\u001b[0m\u001b[0;32mFalse\u001b[0m\u001b[0;34m)\u001b[0m\u001b[0;34m\u001b[0m\u001b[0;34m\u001b[0m\u001b[0m\n\u001b[0m\u001b[1;32m    879\u001b[0m \u001b[0;34m\u001b[0m\u001b[0m\n\u001b[1;32m    880\u001b[0m         \u001b[0;32mif\u001b[0m \u001b[0mtype\u001b[0m\u001b[0;34m(\u001b[0m\u001b[0mresult\u001b[0m\u001b[0;34m)\u001b[0m \u001b[0;32mis\u001b[0m \u001b[0mtuple\u001b[0m\u001b[0;34m:\u001b[0m\u001b[0;34m\u001b[0m\u001b[0;34m\u001b[0m\u001b[0m\n",
      "\u001b[0;32m~/miniconda3/lib/python3.7/site-packages/pandas/core/series.py\u001b[0m in \u001b[0;36m__init__\u001b[0;34m(self, data, index, dtype, name, copy, fastpath)\u001b[0m\n\u001b[1;32m    300\u001b[0m                         raise ValueError(\n\u001b[1;32m    301\u001b[0m                             \u001b[0;34m\"Length of passed values is {val}, \"\u001b[0m\u001b[0;34m\u001b[0m\u001b[0;34m\u001b[0m\u001b[0m\n\u001b[0;32m--> 302\u001b[0;31m                             \u001b[0;34m\"index implies {ind}\"\u001b[0m\u001b[0;34m.\u001b[0m\u001b[0mformat\u001b[0m\u001b[0;34m(\u001b[0m\u001b[0mval\u001b[0m\u001b[0;34m=\u001b[0m\u001b[0mlen\u001b[0m\u001b[0;34m(\u001b[0m\u001b[0mdata\u001b[0m\u001b[0;34m)\u001b[0m\u001b[0;34m,\u001b[0m \u001b[0mind\u001b[0m\u001b[0;34m=\u001b[0m\u001b[0mlen\u001b[0m\u001b[0;34m(\u001b[0m\u001b[0mindex\u001b[0m\u001b[0;34m)\u001b[0m\u001b[0;34m)\u001b[0m\u001b[0;34m\u001b[0m\u001b[0;34m\u001b[0m\u001b[0m\n\u001b[0m\u001b[1;32m    303\u001b[0m                         )\n\u001b[1;32m    304\u001b[0m                 \u001b[0;32mexcept\u001b[0m \u001b[0mTypeError\u001b[0m\u001b[0;34m:\u001b[0m\u001b[0;34m\u001b[0m\u001b[0;34m\u001b[0m\u001b[0m\n",
      "\u001b[0;31mValueError\u001b[0m: Length of passed values is 1000, index implies 1"
     ]
    }
   ],
   "source": [
    "# Likelihood P(X|θ) for all θ's\n",
    "likelihood = stats.binom.pmf(k = np.sum(data_dt['nof_searches_with_clicks']),n = data_dt['nof_searches'],\\\n",
    "                             p = theta_range)\n",
    "# Create the plot\n",
    "fig, ax = plt.subplots()\n",
    "plt.plot(theta_range, likelihood, linewidth=3, color='green')\n",
    "# Add a title\n",
    "plt.title('[Likelihood] Probability of CTR' , fontsize=20)\n",
    "# Add X and y Label\n",
    "plt.xlabel(\"θ\", fontsize=16)\n",
    "plt.ylabel(\"Probability\", fontsize=16)\n",
    "# Add a grid\n",
    "plt.grid(alpha=.4, linestyle='--')\n",
    "# Show the plot\n",
    "plt.show()"
   ]
  },
  {
   "cell_type": "markdown",
   "metadata": {},
   "source": [
    "#### STEP 3: Posteriori P($\\theta|X$)\n",
    "\n",
    "If your prior is a distribution $\\beta(a,b)$, the posteriori distribution is $\\beta(a+k,b+n-k)$ where\n",
    "$k$ is the number of searches with clicks and $n$ total number of searches."
   ]
  },
  {
   "cell_type": "code",
   "execution_count": 161,
   "metadata": {},
   "outputs": [],
   "source": [
    "a = 1\n",
    "b = 1\n",
    "k = data_dt['nof_searches_with_clicks']\n",
    "n = data_dt['nof_searches']\n",
    "# domain θ\n",
    "theta_range = np.linspace(0, 1, 1000)\n",
    "# posterior distribution P(θ|X)\n",
    "posterior = stats.beta.pdf(x = theta_range, a=a+k, b=b+n-k)"
   ]
  },
  {
   "cell_type": "code",
   "execution_count": 75,
   "metadata": {},
   "outputs": [
    {
     "data": {
      "image/png": "[encoded data removed]",
      "text/plain": [
       "<Figure size 1440x504 with 1 Axes>"
      ]
     },
     "metadata": {
      "filenames": {
       "image/png": "/home/salvo/Desktop/TutorialBayesian/TutorialBayesian/bayesian-course/tutorial/_build/jupyter_execute/chaptExamples/Example Searches with Clicks_19_0.png"
      },
      "needs_background": "light"
     },
     "output_type": "display_data"
    }
   ],
   "source": [
    "# Create the plot\n",
    "fig, ax = plt.subplots()\n",
    "plt.plot(theta_range, posterior, linewidth=3, color='magenta')\n",
    "# Add a title\n",
    "plt.title('[Posteriori] Model of UCTR' , fontsize=20)\n",
    "# Add X and y Label\n",
    "plt.xlabel(\"θ\", fontsize=16)\n",
    "plt.ylabel(\"Probability\", fontsize=16)\n",
    "# Add a grid\n",
    "plt.grid(alpha=.4, linestyle='--')\n",
    "# Show the plot\n",
    "plt.show()"
   ]
  },
  {
   "cell_type": "markdown",
   "metadata": {},
   "source": [
    "### Computations of the Credible intervals with this posteriori "
   ]
  },
  {
   "cell_type": "code",
   "execution_count": 167,
   "metadata": {},
   "outputs": [
    {
     "data": {
      "text/plain": [
       "(0.5376300204361092, 0.5452460648094737)"
      ]
     },
     "execution_count": 167,
     "metadata": {},
     "output_type": "execute_result"
    }
   ],
   "source": [
    "cl,cu = stats.beta.ppf(0.025,a+k,b+n-k)[0],stats.beta.ppf(0.975,a+k,b+n-k)[0]\n",
    "cl,cu"
   ]
  },
  {
   "cell_type": "code",
   "execution_count": 174,
   "metadata": {},
   "outputs": [
    {
     "data": {
      "text/plain": [
       "(0.5176300204361092, 0.5652460648094737)"
      ]
     },
     "execution_count": 174,
     "metadata": {},
     "output_type": "execute_result"
    },
    {
     "data": {
      "image/png": "[encoded data removed]",
      "text/plain": [
       "<Figure size 1440x504 with 1 Axes>"
      ]
     },
     "metadata": {
      "filenames": {
       "image/png": "/home/salvo/Desktop/TutorialBayesian/TutorialBayesian/bayesian-course/tutorial/_build/jupyter_execute/chaptExamples/Example Searches with Clicks_22_1.png"
      },
      "needs_background": "light"
     },
     "output_type": "display_data"
    }
   ],
   "source": [
    "# Create the plot\n",
    "fig, ax = plt.subplots()\n",
    "plt.plot(theta_range, posterior, linewidth=3, color='magenta')\n",
    "# Add a title\n",
    "plt.title('[Posteriori] Model of UCTR' , fontsize=20)\n",
    "# Add X and y Label\n",
    "plt.xlabel(\"θ\", fontsize=16)\n",
    "plt.ylabel(\"Probability\", fontsize=16)\n",
    "# Add a grid\n",
    "plt.grid(alpha=.4, linestyle='--')\n",
    "xs = theta_range[(cl < theta_range) & (cu >theta_range)]\n",
    "ps = posterior[(cl < theta_range) & (cu >theta_range)]\n",
    "plt.fill_between(xs,posterior.min(), ps,facecolor='green', interpolate=True, alpha=0.2)\n",
    "plt.xlim([cl-0.02,cu+0.02])"
   ]
  },
  {
   "cell_type": "markdown",
   "metadata": {},
   "source": [
    "### We are going to ompute the credible interval for every day and plot"
   ]
  },
  {
   "cell_type": "code",
   "execution_count": 122,
   "metadata": {},
   "outputs": [],
   "source": [
    "def credible_intervale(dt,df,a,b):\n",
    "    data_dt = df[df.index==dt].copy()\n",
    "    k = data_dt['nof_searches_with_clicks']\n",
    "    n = data_dt['nof_searches']\n",
    "    cl,cu = stats.beta.ppf(0.025,a+k,b+n-k)[0],stats.beta.ppf(0.975,a+k,b+n-k)[0]\n",
    "    return cl,cu,data_dt['uctr'][0]"
   ]
  },
  {
   "cell_type": "code",
   "execution_count": 120,
   "metadata": {},
   "outputs": [
    {
     "data": {
      "text/plain": [
       "(0.5376300204361092, 0.5452460648094737, 0.5414404962824431)"
      ]
     },
     "execution_count": 120,
     "metadata": {},
     "output_type": "execute_result"
    }
   ],
   "source": [
    "credible_intervale('2021-03-01',data,a=1,b=1)"
   ]
  },
  {
   "cell_type": "code",
   "execution_count": 155,
   "metadata": {},
   "outputs": [],
   "source": [
    "dic = {}\n",
    "for dt in data.index:\n",
    "    cl,cu,uctr = credible_intervale(dt,data,a,b)\n",
    "    dic[dt] = cl,cu,uctr"
   ]
  },
  {
   "cell_type": "code",
   "execution_count": 134,
   "metadata": {},
   "outputs": [
    {
     "data": {
      "text/html": [
       "<div>\n",
       "<style scoped>\n",
       "    .dataframe tbody tr th:only-of-type {\n",
       "        vertical-align: middle;\n",
       "    }\n",
       "\n",
       "    .dataframe tbody tr th {\n",
       "        vertical-align: top;\n",
       "    }\n",
       "\n",
       "    .dataframe thead th {\n",
       "        text-align: right;\n",
       "    }\n",
       "</style>\n",
       "<table border=\"1\" class=\"dataframe\">\n",
       "  <thead>\n",
       "    <tr style=\"text-align: right;\">\n",
       "      <th></th>\n",
       "      <th>lower</th>\n",
       "      <th>upper</th>\n",
       "      <th>uctr</th>\n",
       "    </tr>\n",
       "  </thead>\n",
       "  <tbody>\n",
       "    <tr>\n",
       "      <th>2021-03-01</th>\n",
       "      <td>0.537630</td>\n",
       "      <td>0.545246</td>\n",
       "      <td>0.541440</td>\n",
       "    </tr>\n",
       "    <tr>\n",
       "      <th>2021-03-02</th>\n",
       "      <td>0.546614</td>\n",
       "      <td>0.552474</td>\n",
       "      <td>0.549545</td>\n",
       "    </tr>\n",
       "    <tr>\n",
       "      <th>2021-03-03</th>\n",
       "      <td>0.548207</td>\n",
       "      <td>0.554073</td>\n",
       "      <td>0.551142</td>\n",
       "    </tr>\n",
       "    <tr>\n",
       "      <th>2021-03-04</th>\n",
       "      <td>0.546926</td>\n",
       "      <td>0.552832</td>\n",
       "      <td>0.549881</td>\n",
       "    </tr>\n",
       "    <tr>\n",
       "      <th>2021-03-05</th>\n",
       "      <td>0.541109</td>\n",
       "      <td>0.547127</td>\n",
       "      <td>0.544120</td>\n",
       "    </tr>\n",
       "    <tr>\n",
       "      <th>2021-03-06</th>\n",
       "      <td>0.543137</td>\n",
       "      <td>0.549293</td>\n",
       "      <td>0.546217</td>\n",
       "    </tr>\n",
       "    <tr>\n",
       "      <th>2021-03-07</th>\n",
       "      <td>0.545604</td>\n",
       "      <td>0.551536</td>\n",
       "      <td>0.548572</td>\n",
       "    </tr>\n",
       "    <tr>\n",
       "      <th>2021-03-08</th>\n",
       "      <td>0.545509</td>\n",
       "      <td>0.551424</td>\n",
       "      <td>0.548468</td>\n",
       "    </tr>\n",
       "    <tr>\n",
       "      <th>2021-03-09</th>\n",
       "      <td>0.546782</td>\n",
       "      <td>0.552701</td>\n",
       "      <td>0.549743</td>\n",
       "    </tr>\n",
       "    <tr>\n",
       "      <th>2021-03-10</th>\n",
       "      <td>0.546524</td>\n",
       "      <td>0.552432</td>\n",
       "      <td>0.549480</td>\n",
       "    </tr>\n",
       "    <tr>\n",
       "      <th>2021-03-11</th>\n",
       "      <td>0.550628</td>\n",
       "      <td>0.559803</td>\n",
       "      <td>0.555220</td>\n",
       "    </tr>\n",
       "  </tbody>\n",
       "</table>\n",
       "</div>"
      ],
      "text/plain": [
       "               lower     upper      uctr\n",
       "2021-03-01  0.537630  0.545246  0.541440\n",
       "2021-03-02  0.546614  0.552474  0.549545\n",
       "2021-03-03  0.548207  0.554073  0.551142\n",
       "2021-03-04  0.546926  0.552832  0.549881\n",
       "2021-03-05  0.541109  0.547127  0.544120\n",
       "2021-03-06  0.543137  0.549293  0.546217\n",
       "2021-03-07  0.545604  0.551536  0.548572\n",
       "2021-03-08  0.545509  0.551424  0.548468\n",
       "2021-03-09  0.546782  0.552701  0.549743\n",
       "2021-03-10  0.546524  0.552432  0.549480\n",
       "2021-03-11  0.550628  0.559803  0.555220"
      ]
     },
     "execution_count": 134,
     "metadata": {},
     "output_type": "execute_result"
    }
   ],
   "source": [
    "result = pd.DataFrame.from_dict(dic).transpose()\n",
    "result.columns = [\"lower\",'upper','uctr']\n",
    "result"
   ]
  },
  {
   "cell_type": "code",
   "execution_count": 158,
   "metadata": {},
   "outputs": [
    {
     "name": "stderr",
     "output_type": "stream",
     "text": [
      "<ipython-input-158-328ba4725e29>:4: UserWarning: color is redundantly defined by the 'color' keyword argument and the fmt string \"r_-\" (-> color='r'). The keyword argument will take precedence.\n",
      "  plt.plot((y,y),(lower,upper),'r_-',color='red')\n"
     ]
    },
    {
     "data": {
      "image/png": "[encoded data removed]",
      "text/plain": [
       "<Figure size 1440x504 with 1 Axes>"
      ]
     },
     "metadata": {
      "filenames": {
       "image/png": "/home/salvo/Desktop/TutorialBayesian/TutorialBayesian/bayesian-course/tutorial/_build/jupyter_execute/chaptExamples/Example Searches with Clicks_28_1.png"
      },
      "needs_background": "light"
     },
     "output_type": "display_data"
    }
   ],
   "source": [
    "fig, ax = plt.subplots()\n",
    "plt.plot(result.index, result['uctr'],marker='o')\n",
    "for lower,upper,y in zip(result['lower'],result['upper'],range(result.shape[0])):\n",
    "    plt.plot((y,y),(lower,upper),'r_-',color='red')\n",
    "plt.xticks(range(result.shape[0]),list(result.index))\n",
    "plt.title('Uncertainty of the UCTR over time \\n (credible intervals)' , fontsize=20)\n",
    "# Add X and y Label\n",
    "_ = plt.xlabel(\"date\", fontsize=16)"
   ]
  },
  {
   "cell_type": "markdown",
   "metadata": {},
   "source": [
    "### Appendix"
   ]
  },
  {
   "cell_type": "code",
   "execution_count": 151,
   "metadata": {},
   "outputs": [],
   "source": [
    "theta_range_e = theta_range + 0.001 \n",
    "#prior = stats.beta.cdf(x = theta_range_e, a=a, b=b) - stats.beta.cdf(x = theta_range, a=a, b=b)  \n",
    "prior = stats.beta.pdf(x = theta_range, a=a, b=b)\n",
    "likelihood = stats.binom.pmf(k = np.sum(data_dt['nof_searches_with_clicks']),n = data_dt['nof_searches'],p = theta_range) \n",
    "posterior = likelihood * prior # element-wise multiplication\n",
    "normalized_posterior = posterior / np.sum(posterior)\n"
   ]
  },
  {
   "cell_type": "code",
   "execution_count": 66,
   "metadata": {},
   "outputs": [
    {
     "data": {
      "text/plain": [
       "8"
      ]
     },
     "execution_count": 66,
     "metadata": {},
     "output_type": "execute_result"
    }
   ],
   "source": [
    "np.argmax(prior)"
   ]
  },
  {
   "cell_type": "code",
   "execution_count": 67,
   "metadata": {},
   "outputs": [
    {
     "data": {
      "text/plain": [
       "541"
      ]
     },
     "execution_count": 67,
     "metadata": {},
     "output_type": "execute_result"
    }
   ],
   "source": [
    "np.argmax(likelihood)"
   ]
  },
  {
   "cell_type": "code",
   "execution_count": 68,
   "metadata": {},
   "outputs": [
    {
     "data": {
      "text/plain": [
       "541"
      ]
     },
     "execution_count": 68,
     "metadata": {},
     "output_type": "execute_result"
    }
   ],
   "source": [
    "np.argmax(posterior)"
   ]
  },
  {
   "cell_type": "code",
   "execution_count": 153,
   "metadata": {},
   "outputs": [
    {
     "data": {
      "image/png": "[encoded data removed]",
      "text/plain": [
       "<Figure size 1440x504 with 3 Axes>"
      ]
     },
     "metadata": {
      "filenames": {
       "image/png": "/home/salvo/Desktop/TutorialBayesian/TutorialBayesian/bayesian-course/tutorial/_build/jupyter_execute/chaptExamples/Example Searches with Clicks_34_0.png"
      },
      "needs_background": "light"
     },
     "output_type": "display_data"
    }
   ],
   "source": [
    "# Plotting all three together\n",
    "fig, axes = plt.subplots(3, 1, sharex=True, figsize=(20,7))\n",
    "plt.xlabel('θ', fontsize=24)\n",
    "axes[0].plot(theta_range, prior, label=\"Prior\", linewidth=3)\n",
    "axes[0].set_title(\"Prior\", fontsize=16)\n",
    "axes[1].plot(theta_range, likelihood, label=\"Likelihood\", linewidth=3, color='yellowgreen')\n",
    "axes[1].set_title(\"Sampling (Likelihood)\", fontsize=16)\n",
    "axes[2].plot(theta_range, posterior, label='Posterior', linewidth=3, color='magenta')\n",
    "axes[2].set_title(\"Posterior\", fontsize=16)\n",
    "plt.show()\n"
   ]
  }
 ],
 "metadata": {
  "celltoolbar": "Tags",
  "kernelspec": {
   "display_name": "Python 3",
   "language": "python",
   "name": "python3"
  },
  "language_info": {
   "codemirror_mode": {
    "name": "ipython",
    "version": 3
   },
   "file_extension": ".py",
   "mimetype": "text/x-python",
   "name": "python",
   "nbconvert_exporter": "python",
   "pygments_lexer": "ipython3",
   "version": "3.7.5"
  }
 },
 "nbformat": 4,
 "nbformat_minor": 1
}